{
 "cells": [
  {
   "cell_type": "markdown",
   "id": "2923ed84",
   "metadata": {},
   "source": [
    "This is a test cell"
   ]
  },
  {
   "cell_type": "code",
   "execution_count": 1,
   "id": "cbd72c0a",
   "metadata": {
    "execution": {
     "iopub.execute_input": "2023-12-03T14:54:43.511496Z",
     "iopub.status.busy": "2023-12-03T14:54:43.511363Z",
     "iopub.status.idle": "2023-12-03T14:54:43.556180Z",
     "shell.execute_reply": "2023-12-03T14:54:43.555801Z"
    }
   },
   "outputs": [
    {
     "name": "stdout",
     "output_type": "stream",
     "text": [
      "[0.92947243 0.68523306 0.8892298  0.54040803 0.92003014]\n"
     ]
    }
   ],
   "source": [
    "import numpy as np\n",
    "\n",
    "samples = np.random.rand(5)\n",
    "print(samples)"
   ]
  }
 ],
 "metadata": {
  "language_info": {
   "codemirror_mode": {
    "name": "ipython",
    "version": 3
   },
   "file_extension": ".py",
   "mimetype": "text/x-python",
   "name": "python",
   "nbconvert_exporter": "python",
   "pygments_lexer": "ipython3",
   "version": "3.11.6"
  }
 },
 "nbformat": 4,
 "nbformat_minor": 5
}
